{
 "cells": [
  {
   "cell_type": "code",
   "execution_count": 1,
   "id": "79b7b175",
   "metadata": {},
   "outputs": [
    {
     "name": "stdout",
     "output_type": "stream",
     "text": [
      "Index(['Unique Response Number', '1. I agree with the above information.',\n",
      "       '2. Please select the appropriate age range.',\n",
      "       '2.a. Which subject area are you studying?',\n",
      "       '3. Have you used any Generative AI tools as part of your studies? (A generative AI tool will usually create new content from a prompt)',\n",
      "       '4. Which of the following generative AI tools have you used?',\n",
      "       '4.a. If you selected Other, please specify:',\n",
      "       '5. What devices do you use for Generative AI?',\n",
      "       '5.a. If you selected Other, please specify:',\n",
      "       '6. What are your reasons for not using Generative AI tools in your studies?',\n",
      "       '6.a. If you selected Other, please specify:',\n",
      "       '7. How helpful are AI tools in the following tasks?',\n",
      "       '7.1. Generating new content', '7.2. Summarising content',\n",
      "       '7.3. Editing text', '7.4. Revising grammar and sentence structure',\n",
      "       '7.5. Generating ideas', '7.6. Research', '7.7. Planning',\n",
      "       '7.8. Inspiration', '7.9. Writing Communications',\n",
      "       '7.10. Summarising notes',\n",
      "       '7.11. As a discursive tool / collaborative partner',\n",
      "       '8. How do you feel about the advancements and availability of AI generative tools during your studies?',\n",
      "       '9. How much do you agree with these statements?',\n",
      "       '9.1. The use of AI in education may give an unfair advantage to those who use them.',\n",
      "       '9.2. AI tools should be available to ALL students to ensure equality.',\n",
      "       '9.3. Students trained in the use of AI tools will have more opportunities in the future.',\n",
      "       '9.4. Access to AI systems should be restricted at the University so that they do not undermine learning.',\n",
      "       '10. Are you aware of the university guidelines around the use of AI within your studies?',\n",
      "       '11. How important do you think it is that your tutors teach you how to use Generative AI tools?',\n",
      "       '11.1. Not at all important vs Very Important',\n",
      "       '12. How would you feel if academic staff used AI to mark and feedback on your assignments?',\n",
      "       '13. How would you feel if your tutors used Generative AI tools to create teaching content?',\n",
      "       '14. If you have any other thoughts about the use of Generative AI, please write them below.',\n",
      "       'CompletionDate'],\n",
      "      dtype='object')\n"
     ]
    }
   ],
   "source": [
    "import pandas as pd\n",
    "import os\n",
    "os.environ.pop(\"MPLBACKEND\", None)\n",
    "\n",
    "import matplotlib.pyplot as plt\n",
    "import seaborn as sns\n",
    "\n",
    "df_survey = pd.read_csv(\"Student_AI_Survey_2023_Raw_data.csv\", encoding='ISO-8859-1')\n",
    "\n",
    "# Preview the column headers\n",
    "print(df_survey.columns)\n"
   ]
  },
  {
   "cell_type": "code",
   "execution_count": 2,
   "id": "a32d2bd6",
   "metadata": {},
   "outputs": [],
   "source": [
    "from collections import Counter\n",
    "import matplotlib.pyplot as plt\n",
    "\n",
    "# Split multiple tools in a single cell (assuming comma-separated)\n",
    "tools_raw = df_survey[\"4. Which of the following generative AI tools have you used?\"].dropna()\n",
    "tool_list = [tool.strip() for row in tools_raw for tool in str(row).split(',')]\n",
    "tool_counts = Counter(tool_list)\n",
    "\n",
    "# Plot\n",
    "plt.figure(figsize=(10, 5))\n",
    "plt.bar(tool_counts.keys(), tool_counts.values(), color='skyblue')\n",
    "plt.title(\"Most Common Generative AI Tools Used by Students\")\n",
    "plt.xlabel(\"AI Tool\")\n",
    "plt.ylabel(\"Number of Users\")\n",
    "plt.xticks(rotation=45)\n",
    "plt.tight_layout()\n",
    "plt.show()\n"
   ]
  },
  {
   "cell_type": "code",
   "execution_count": 3,
   "id": "23d3cdfe",
   "metadata": {},
   "outputs": [
    {
     "name": "stderr",
     "output_type": "stream",
     "text": [
      "C:\\Users\\pault\\AppData\\Local\\Temp\\ipykernel_27612\\3397365125.py:32: FutureWarning: Downcasting behavior in `replace` is deprecated and will be removed in a future version. To retain the old behavior, explicitly call `result.infer_objects(copy=False)`. To opt-in to the future behavior, set `pd.set_option('future.no_silent_downcasting', True)`\n",
      "  df_cleaned = df_survey[task_columns].replace(likert_map)\n",
      "C:\\Users\\pault\\AppData\\Local\\Temp\\ipykernel_27612\\3397365125.py:40: FutureWarning: \n",
      "\n",
      "Passing `palette` without assigning `hue` is deprecated and will be removed in v0.14.0. Assign the `y` variable to `hue` and set `legend=False` for the same effect.\n",
      "\n",
      "  sns.barplot(x=task_means.values, y=task_means.index, palette='viridis')\n"
     ]
    }
   ],
   "source": [
    "# Clean column names\n",
    "df_survey.columns = df_survey.columns.str.strip()\n",
    "\n",
    "# Define columns\n",
    "task_columns = [\n",
    "    '7.1. Generating new content',\n",
    "    '7.2. Summarising content',\n",
    "    '7.3. Editing text',\n",
    "    '7.4. Revising grammar and sentence structure',\n",
    "    '7.5. Generating ideas',\n",
    "    '7.6. Research',\n",
    "    '7.7. Planning',\n",
    "    '7.8. Inspiration',\n",
    "    '7.9. Writing Communications',\n",
    "    '7.10. Summarising notes',\n",
    "    '7.11. As a discursive tool / collaborative partner'\n",
    "]\n",
    "\n",
    "# Apply mapping\n",
    "likert_map = {\n",
    "    \"Very Helpful\": 5,\n",
    "    \"Helpful\": 4,\n",
    "    \"Neither helpful or unhelpful\": 3,\n",
    "    \"Unhelpful\": 2,\n",
    "    \"Not helpful at all\": 1,\n",
    "    \"I have not used any\": None,\n",
    "    \"\": None,\n",
    "    None: None\n",
    "}\n",
    "\n",
    "# Replace responses with numeric values\n",
    "df_cleaned = df_survey[task_columns].replace(likert_map)\n",
    "df_numeric = df_cleaned.apply(pd.to_numeric, errors='coerce')\n",
    "\n",
    "# Compute means and plot\n",
    "task_means = df_numeric.mean().sort_values()\n",
    "\n",
    "# Plot\n",
    "plt.figure(figsize=(10, 6))\n",
    "sns.barplot(x=task_means.values, y=task_means.index, palette='viridis')\n",
    "plt.title(\"Perceived Helpfulness of AI Tools by Task\")\n",
    "plt.xlabel(\"Average Usefulness Rating (1–5)\")\n",
    "plt.tight_layout()\n",
    "plt.show()"
   ]
  },
  {
   "cell_type": "code",
   "execution_count": 4,
   "id": "83e261a7",
   "metadata": {},
   "outputs": [],
   "source": [
    "# Replace with actual columns if names differ\n",
    "attitude_cols = {\n",
    "    'AI gives unfair advantage': '9.1. The use of AI in education may give an unfair advantage to those who use them.',\n",
    "    'AI should be available to all': '9.2. AI tools should be available to ALL students to ensure equality.',\n",
    "    'AI skills = future opportunity': '9.3. Students trained in the use of AI tools will have more opportunities in the future.',\n",
    "    'Restrict AI to protect learning': '9.4. Access to AI systems should be restricted at the University so that they do not undermine learning.'\n",
    "}\n",
    "\n",
    "# Count response frequencies\n",
    "attitudes = {k: df_survey[v].value_counts().sort_index() for k, v in attitude_cols.items()}\n",
    "\n",
    "# Convert to DataFrame\n",
    "df_attitudes = pd.DataFrame(attitudes).fillna(0)\n",
    "\n",
    "# Plot\n",
    "df_attitudes.plot(kind='bar', stacked=True, figsize=(10, 6), colormap='coolwarm')\n",
    "plt.title(\"Student Attitudes Toward AI in Education\")\n",
    "plt.ylabel(\"Number of Students\")\n",
    "plt.xlabel(\"Agreement Level\")\n",
    "plt.xticks(rotation=45)\n",
    "plt.legend(title=\"Statement\", bbox_to_anchor=(1.05, 1), loc='upper left')\n",
    "plt.tight_layout()\n",
    "plt.show()\n"
   ]
  },
  {
   "cell_type": "code",
   "execution_count": 5,
   "id": "71f9e9f7",
   "metadata": {},
   "outputs": [],
   "source": [
    "from wordcloud import WordCloud\n",
    "\n",
    "comments = df_survey[\"14. If you have any other thoughts about the use of Generative AI, please write them below.\"].dropna()\n",
    "text_blob = \" \".join(comments)\n",
    "\n",
    "wordcloud = WordCloud(width=800, height=400, background_color='white').generate(text_blob)\n",
    "\n",
    "plt.figure(figsize=(10, 5))\n",
    "plt.imshow(wordcloud, interpolation='bilinear')\n",
    "plt.axis(\"off\")\n",
    "plt.title(\"Student Sentiment: Common Words from Open Comments\")\n",
    "plt.show()\n"
   ]
  },
  {
   "cell_type": "code",
   "execution_count": 6,
   "id": "ae351476",
   "metadata": {},
   "outputs": [],
   "source": [
    "# Extract column of interest\n",
    "tool_column = '4. Which of the following generative AI tools have you used?'\n",
    "tools_raw = df_survey[tool_column].dropna()\n",
    "\n",
    "# Split comma-separated tools and normalize\n",
    "tool_list = [tool.strip() for row in tools_raw for tool in str(row).split(',') if tool.strip() != \"\"]\n",
    "tool_counts = Counter(tool_list)\n",
    "\n",
    "# Convert counts to % of total respondents\n",
    "total_respondents = len(df_survey)\n",
    "tool_df = pd.DataFrame({\n",
    "    \"Tool Used\": list(tool_counts.keys()),\n",
    "    \"% of Respondents (approx.)\": [f\"{(count / total_respondents) * 100:.0f}%\" for count in tool_counts.values()]\n",
    "}).sort_values(by=\"% of Respondents (approx.)\", ascending=False)\n",
    "\n",
    "# Plot as table\n",
    "fig, ax = plt.subplots(figsize=(9, len(tool_df)*0.5 + 1))\n",
    "ax.axis('tight')\n",
    "ax.axis('off')\n",
    "tbl = ax.table(cellText=tool_df.values,\n",
    "               colLabels=tool_df.columns,\n",
    "               cellLoc='center',\n",
    "               loc='center')\n",
    "tbl.auto_set_font_size(False)\n",
    "tbl.set_fontsize(12)\n",
    "tbl.scale(1.1, 1.5)\n",
    "\n",
    "plt.title(\"Generative AI Tool Usage Among Students (Survey-Based)\", fontsize=14, pad=10)\n",
    "plt.show()"
   ]
  },
  {
   "cell_type": "code",
   "execution_count": 7,
   "id": "86823b10",
   "metadata": {},
   "outputs": [
    {
     "name": "stdout",
     "output_type": "stream",
     "text": [
      "Top reasons for not using AI (% of total respondents):\n",
      "I am concerned that using AI tools would be cheating    14.0%\n",
      "I don't feel the need to use AI tools.                  13.2%\n",
      "I don't know how to use any of the AI tools             10.1%\n",
      "I feel that using AI tools would limit my creativity     9.3%\n",
      "I am not aware of AI tools                               9.3%\n",
      "Name: count, dtype: object\n"
     ]
    }
   ],
   "source": [
    "# Column: 6. What are your reasons for not using Generative AI tools in your studies?\n",
    "reason_col = '6. What are your reasons for not using Generative AI tools in your studies?'\n",
    "non_use_raw = df_survey[reason_col].dropna()\n",
    "\n",
    "# Split comma-separated responses\n",
    "reasons = [reason.strip() for row in non_use_raw for reason in str(row).split(',')]\n",
    "reason_counts = pd.Series(reasons).value_counts()\n",
    "reason_percent = (reason_counts / len(df_survey)) * 100\n",
    "\n",
    "# Display results\n",
    "print(\"Top reasons for not using AI (% of total respondents):\")\n",
    "print(reason_percent.head(5).round(1).astype(str) + \"%\")\n"
   ]
  },
  {
   "cell_type": "code",
   "execution_count": 8,
   "id": "d9639c0b",
   "metadata": {},
   "outputs": [
    {
     "name": "stdout",
     "output_type": "stream",
     "text": [
      "AI Attitudes (% Agree or Strongly Agree):\n",
      "AI gives unfair advantage: 58.9%\n",
      "AI should be available to all: 62.0%\n",
      "AI = Future opportunity: 56.6%\n",
      "Restrict AI access: 39.5%\n"
     ]
    }
   ],
   "source": [
    "# Define attitude columns and labels\n",
    "attitude_map = {\n",
    "    \"AI gives unfair advantage\": '9.1. The use of AI in education may give an unfair advantage to those who use them.',\n",
    "    \"AI should be available to all\": '9.2. AI tools should be available to ALL students to ensure equality.',\n",
    "    \"AI = Future opportunity\": '9.3. Students trained in the use of AI tools will have more opportunities in the future.',\n",
    "    \"Restrict AI access\": '9.4. Access to AI systems should be restricted at the University so that they do not undermine learning.'\n",
    "}\n",
    "\n",
    "# Calculate % who Agree or Strongly Agree\n",
    "attitude_agree = {}\n",
    "for label, col in attitude_map.items():\n",
    "    agree_pct = df_survey[col].isin([\"Agree\", \"Strongly agree\"]).sum() / len(df_survey) * 100\n",
    "    attitude_agree[label] = round(agree_pct, 1)\n",
    "\n",
    "# Print result\n",
    "print(\"AI Attitudes (% Agree or Strongly Agree):\")\n",
    "for k, v in attitude_agree.items():\n",
    "    print(f\"{k}: {v}%\")\n"
   ]
  },
  {
   "cell_type": "code",
   "execution_count": 9,
   "id": "e948314e",
   "metadata": {},
   "outputs": [
    {
     "name": "stdout",
     "output_type": "stream",
     "text": [
      "Training Expectations:\n",
      "Important to Very Important (4–5): 36.2%\n",
      "Neutral (3): 23.6%\n",
      "Not Important (1–2): 40.2%\n"
     ]
    }
   ],
   "source": [
    "# Column: 11.1. Not at all important vs Very Important\n",
    "q_col = '11.1. Not at all important vs Very Important'\n",
    "training_responses = pd.to_numeric(df_survey[q_col], errors='coerce')\n",
    "\n",
    "important = (training_responses >= 4).sum()\n",
    "neutral = (training_responses == 3).sum()\n",
    "not_important = (training_responses <= 2).sum()\n",
    "\n",
    "total = len(training_responses.dropna())\n",
    "important_pct = round((important / total) * 100, 1)\n",
    "neutral_pct = round((neutral / total) * 100, 1)\n",
    "not_important_pct = round((not_important / total) * 100, 1)\n",
    "\n",
    "print(\"Training Expectations:\")\n",
    "print(f\"Important to Very Important (4–5): {important_pct}%\")\n",
    "print(f\"Neutral (3): {neutral_pct}%\")\n",
    "print(f\"Not Important (1–2): {not_important_pct}%\")\n"
   ]
  }
 ],
 "metadata": {
  "kernelspec": {
   "display_name": "Python 3",
   "language": "python",
   "name": "python3"
  },
  "language_info": {
   "codemirror_mode": {
    "name": "ipython",
    "version": 3
   },
   "file_extension": ".py",
   "mimetype": "text/x-python",
   "name": "python",
   "nbconvert_exporter": "python",
   "pygments_lexer": "ipython3",
   "version": "3.11.9"
  }
 },
 "nbformat": 4,
 "nbformat_minor": 5
}
